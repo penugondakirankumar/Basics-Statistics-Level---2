{
 "cells": [
  {
   "cell_type": "code",
   "execution_count": 1,
   "id": "2ed56e76",
   "metadata": {},
   "outputs": [],
   "source": [
    "import pandas as pd\n",
    "import numpy as np\n",
    "import matplotlib.pyplot as plt\n",
    "import scipy.stats as stats\n",
    "import seaborn as sns\n",
    "import statsmodels.api as smf"
   ]
  },
  {
   "cell_type": "code",
   "execution_count": 2,
   "id": "965c5f9a",
   "metadata": {},
   "outputs": [
    {
     "name": "stdout",
     "output_type": "stream",
     "text": [
      "The probability that in any given week, there will be an investigation is 21.4 %\n"
     ]
    },
    {
     "name": "stderr",
     "output_type": "stream",
     "text": [
      "C:\\Users\\kiran\\AppData\\Local\\Temp\\ipykernel_8944\\877411668.py:15: DeprecationWarning: Use of keyword argument 'alpha' for method 'interval' is deprecated and wil be removed in SciPy 1.11.0. Use first positional argument or keyword argument 'confidence' instead.\n",
      "  np.round(stats.t.interval(alpha = prob, df = df, loc = mean, scale = std/np.sqrt(n)))\n"
     ]
    }
   ],
   "source": [
    "#Q3\n",
    "mean = 50\n",
    "std = 40\n",
    "n = 100\n",
    "df = 100 - 1 #degree of freedom\n",
    "#the probability that there will be an investigation,\n",
    "#if the mean transactions amount increases more than 55 USD or less than 45 USD\n",
    "# no investigation if the mean transactions amount remains between 45 to 55 USD\n",
    "# we will go for t-distribution as population standard deviation is unknown\n",
    "t_forty_five = (45-50)/(40/np.sqrt(100))\n",
    "t_fifty_five = (55-50)/(40/np.sqrt(100))\n",
    "forty_five = stats.t.cdf(t_forty_five, df = df)\n",
    "fifty_five = stats.t.cdf(t_fifty_five, df)\n",
    "prob = fifty_five - forty_five\n",
    "np.round(stats.t.interval(alpha = prob, df = df, loc = mean, scale = std/np.sqrt(n)))\n",
    "print('The probability that in any given week, there will be an investigation is',np.round((1-prob)*100,1),'%')"
   ]
  },
  {
   "cell_type": "code",
   "execution_count": 8,
   "id": "a8100b01",
   "metadata": {},
   "outputs": [
    {
     "name": "stdout",
     "output_type": "stream",
     "text": [
      "The Auditors would like to maintain the probability of investigation to 5%, they should sample 248.0 transactions if they do not want to change the thresholds of 45 to 55\n",
      "248.3776 247.3776\n"
     ]
    },
    {
     "name": "stderr",
     "output_type": "stream",
     "text": [
      "C:\\Users\\kiran\\AppData\\Local\\Temp\\ipykernel_8944\\349047278.py:14: DeprecationWarning: Use of keyword argument 'alpha' for method 'interval' is deprecated and wil be removed in SciPy 1.11.0. Use first positional argument or keyword argument 'confidence' instead.\n",
      "  np.round(stats.t.interval(alpha = 0.95, df = df, loc = prob, scale = std/np.sqrt(n)))\n"
     ]
    },
    {
     "data": {
      "text/plain": [
       "array([45., 55.])"
      ]
     },
     "execution_count": 8,
     "metadata": {},
     "output_type": "execute_result"
    }
   ],
   "source": [
    "x = 45\n",
    "std = 40\n",
    "prob = 50\n",
    "t = np.round(stats.t.ppf(0.025, df = 249),2)\n",
    "t\n",
    "# t_value = (x - prob)/(sample_std/n**0.5)\n",
    "# t = 45-50 or z = 55-50 z = +/- 5\n",
    "# t = 5/(40/n**0.5)\n",
    "# n = (sample_standard_deviation*tscore)/(sample_mean=population_mean)\n",
    "n = ((std*abs(t)) / (5))**2\n",
    "print('The Auditors would like to maintain the probability of investigation to 5%, they should sample',np.round(n,),'transactions if they do not want to change the thresholds of 45 to 55')\n",
    "df= n-1\n",
    "print(n, df)\n",
    "np.round(stats.t.interval(alpha = 0.95, df = df, loc = prob, scale = std/np.sqrt(n)))"
   ]
  },
  {
   "cell_type": "code",
   "execution_count": null,
   "id": "bc7df3b7",
   "metadata": {},
   "outputs": [],
   "source": []
  }
 ],
 "metadata": {
  "kernelspec": {
   "display_name": "Python 3 (ipykernel)",
   "language": "python",
   "name": "python3"
  },
  "language_info": {
   "codemirror_mode": {
    "name": "ipython",
    "version": 3
   },
   "file_extension": ".py",
   "mimetype": "text/x-python",
   "name": "python",
   "nbconvert_exporter": "python",
   "pygments_lexer": "ipython3",
   "version": "3.11.4"
  }
 },
 "nbformat": 4,
 "nbformat_minor": 5
}
